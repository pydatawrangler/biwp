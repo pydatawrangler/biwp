{
 "cells": [
  {
   "cell_type": "markdown",
   "metadata": {},
   "source": [
    "# Link to the Book\n",
    "[Statistical Rethinking: A Bayesian Course with Examples](https://xcelab.net/rm/statistical-rethinking/)"
   ]
  },
  {
   "cell_type": "markdown",
   "metadata": {},
   "source": [
    "# Link to the Repo for 2024 Course\n",
    "https://github.com/rmcelreath/stat_rethinking_2024"
   ]
  },
  {
   "cell_type": "markdown",
   "metadata": {},
   "source": [
    "# Python port of the code for the Section edition\n",
    "\n",
    "## from Dustin Stansbury\n",
    "[Python/PyMC 5 implementations](https://github.com/dustinstansbury/statistical-rethinking-2023/tree/main) of Richard McElreath's outstanding YouTube lecture series [Statistical Rethinking 2023](https://www.youtube.com/playlist?list=PLDcUM9US4XdPz-KxHM4XHt7uUVGWWVSus).\n",
    "\n",
    "\n",
    "## from PYMC-DEVS\n",
    "[https://github.com/pymc-devs/resources/tree/master/Rethinking_2](https://github.com/pymc-devs/resources/tree/master/Rethinking_2)"
   ]
  },
  {
   "cell_type": "markdown",
   "metadata": {},
   "source": [
    "# Youtube playlist for Lectures\n",
    "[Statistical Rethinking 2nd Edition - Winter 2019 - Youtube Lectures](https://youtube.com/playlist?list=PLDcUM9US4XdNM4Edgs7weiyIguLSToZRI)"
   ]
  },
  {
   "cell_type": "markdown",
   "metadata": {},
   "source": [
    "# Chapter 1"
   ]
  },
  {
   "cell_type": "markdown",
   "metadata": {},
   "source": [
    "[01_sr2ed_ch1.ipynb](01_sr2ed_ch1.ipynb)"
   ]
  },
  {
   "cell_type": "markdown",
   "metadata": {},
   "source": [
    "## Probability Distributions"
   ]
  },
  {
   "cell_type": "markdown",
   "metadata": {},
   "source": [
    "Link to probability distribution explorer: https://distribution-explorer.github.io/\n",
    "\n",
    "Another one: https://probstats.org/\n",
    "\n",
    "And another: https://probabilitydistributionexplorer.com/\n",
    "\n",
    "And more: https://statdist.ksmzn.com/\n",
    "\n",
    "The distribution zoo: https://ben18785.shinyapps.io/distribution-zoo/\n",
    "\n",
    "Interactive probability distributions: https://www.acsu.buffalo.edu/~adamcunn/probability/probability.html\n",
    "\n",
    "\n",
    "\n"
   ]
  },
  {
   "cell_type": "code",
   "execution_count": null,
   "metadata": {},
   "outputs": [],
   "source": []
  }
 ],
 "metadata": {
  "kernelspec": {
   "display_name": "Python [conda env:pymc_env]",
   "language": "python",
   "name": "conda-env-pymc_env-py"
  },
  "language_info": {
   "name": "python"
  }
 },
 "nbformat": 4,
 "nbformat_minor": 4
}
