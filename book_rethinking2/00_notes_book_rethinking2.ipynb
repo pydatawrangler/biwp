{
 "cells": [
  {
   "cell_type": "markdown",
   "metadata": {},
   "source": [
    "# Link to the Book\n",
    "[Statistical Rethinking: A Bayesian Course with Examples](https://xcelab.net/rm/statistical-rethinking/)"
   ]
  },
  {
   "cell_type": "markdown",
   "metadata": {},
   "source": [
    "# Python port of the code for the Section edition\n",
    "[https://github.com/pymc-devs/resources/tree/master/Rethinking_2](https://github.com/pymc-devs/resources/tree/master/Rethinking_2)"
   ]
  },
  {
   "cell_type": "markdown",
   "metadata": {},
   "source": [
    "# Youtube playlist for Lectures\n",
    "[Statistical Rethinking 2nd Edition - Winter 2019 - Youtube Lectures](https://youtube.com/playlist?list=PLDcUM9US4XdNM4Edgs7weiyIguLSToZRI)"
   ]
  },
  {
   "cell_type": "markdown",
   "metadata": {},
   "source": [
    "# Chapter 1"
   ]
  },
  {
   "cell_type": "markdown",
   "metadata": {},
   "source": [
    "[01_sr2ed_ch1.ipynb](01_sr2ed_ch1.ipynb)"
   ]
  },
  {
   "cell_type": "markdown",
   "metadata": {},
   "source": [
    "## Probability Distributions"
   ]
  },
  {
   "cell_type": "markdown",
   "metadata": {},
   "source": [
    "Link to probability distribution explorer: https://distribution-explorer.github.io/"
   ]
  },
  {
   "cell_type": "code",
   "execution_count": null,
   "metadata": {},
   "outputs": [],
   "source": []
  }
 ],
 "metadata": {
  "kernelspec": {
   "display_name": "Python [conda env:pymc_env]",
   "language": "python",
   "name": "conda-env-pymc_env-py"
  },
  "language_info": {
   "codemirror_mode": {
    "name": "ipython",
    "version": 3
   },
   "file_extension": ".py",
   "mimetype": "text/x-python",
   "name": "python",
   "nbconvert_exporter": "python",
   "pygments_lexer": "ipython3",
   "version": "3.10.4"
  }
 },
 "nbformat": 4,
 "nbformat_minor": 4
}
