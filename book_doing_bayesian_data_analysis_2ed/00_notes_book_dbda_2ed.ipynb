{
 "cells": [
  {
   "cell_type": "markdown",
   "metadata": {},
   "source": [
    "# Link to Book\n",
    "[Doing Bayesian Data Analysis 2ed](https://www.amazon.com/Doing-Bayesian-Data-Analysis-Tutorial/dp/0124058884)"
   ]
  },
  {
   "cell_type": "markdown",
   "metadata": {},
   "source": [
    "## Link to GitHub Repo ported to PYMC3\n",
    "\n",
    "[Github repo - DBDA Python PYMC3](https://github.com/JWarmenhoven/DBDA-python)\n",
    "\n",
    "## Link to GitHub Repo with updated PYMC code\n",
    "\n",
    "https://github.com/cluhmann/DBDA-python/tree/master/Notebooks"
   ]
  },
  {
   "cell_type": "markdown",
   "metadata": {},
   "source": []
  }
 ],
 "metadata": {
  "kernelspec": {
   "display_name": "Python 3.10.1 64-bit",
   "language": "python",
   "name": "python3"
  },
  "language_info": {
   "name": "python",
   "version": "3.10.1"
  },
  "orig_nbformat": 4,
  "vscode": {
   "interpreter": {
    "hash": "369f2c481f4da34e4445cda3fffd2e751bd1c4d706f27375911949ba6bb62e1c"
   }
  }
 },
 "nbformat": 4,
 "nbformat_minor": 2
}
