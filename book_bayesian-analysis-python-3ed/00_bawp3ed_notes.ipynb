{
 "cells": [
  {
   "cell_type": "markdown",
   "metadata": {
    "id": "3nYe3K8zHqmj"
   },
   "source": [
    "Installed the referenced packages in environment \"pymc_env\"\n",
    "\n",
    "`pip install pymc==5.8.0 arviz==0.16.1 bambi==0.13.0 pymc-bart==0.5.2\n",
    "kulprit==0.0.1 preliz==0.3.6 nutpie==0.9.1`\n"
   ]
  },
  {
   "cell_type": "markdown",
   "metadata": {},
   "source": [
    "Github Repo for book is here: [https://github.com/aloctavodia/BAP3](https://github.com/aloctavodia/BAP3)"
   ]
  },
  {
   "cell_type": "code",
   "execution_count": null,
   "metadata": {},
   "outputs": [],
   "source": []
  }
 ],
 "metadata": {
  "colab": {
   "authorship_tag": "ABX9TyModsoj84LPMRqFmaqDJ2bS",
   "include_colab_link": true,
   "name": "Untitled4.ipynb",
   "provenance": []
  },
  "kernelspec": {
   "display_name": "Python 3 (ipykernel)",
   "language": "python",
   "name": "python3"
  },
  "language_info": {
   "codemirror_mode": {
    "name": "ipython",
    "version": 3
   },
   "file_extension": ".py",
   "mimetype": "text/x-python",
   "name": "python",
   "nbconvert_exporter": "python",
   "pygments_lexer": "ipython3",
   "version": "3.10.6"
  }
 },
 "nbformat": 4,
 "nbformat_minor": 4
}
